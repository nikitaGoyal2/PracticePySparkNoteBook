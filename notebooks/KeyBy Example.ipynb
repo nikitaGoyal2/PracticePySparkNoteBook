{
 "cells": [
  {
   "cell_type": "code",
   "execution_count": 1,
   "metadata": {},
   "outputs": [
    {
     "data": {
      "text/plain": [
       "<pyspark.context.SparkContext at 0x6209da0>"
      ]
     },
     "execution_count": 1,
     "metadata": {},
     "output_type": "execute_result"
    }
   ],
   "source": [
    "sc"
   ]
  },
  {
   "cell_type": "code",
   "execution_count": 2,
   "metadata": {
    "collapsed": true
   },
   "outputs": [],
   "source": [
    "rdd=sc.parallelize([\n",
    "             [1,2,3],\n",
    "             [1,2,4],\n",
    "             [2,3,1],\n",
    "             [2,3,2]\n",
    "])\n"
   ]
  },
  {
   "cell_type": "code",
   "execution_count": 3,
   "metadata": {},
   "outputs": [
    {
     "data": {
      "text/plain": [
       "[[1, 2, 3], [1, 2, 4], [2, 3, 1], [2, 3, 2]]"
      ]
     },
     "execution_count": 3,
     "metadata": {},
     "output_type": "execute_result"
    }
   ],
   "source": [
    "rdd.collect()"
   ]
  },
  {
   "cell_type": "code",
   "execution_count": 5,
   "metadata": {},
   "outputs": [
    {
     "data": {
      "text/plain": [
       "[(1, [1, 2, 3]), (1, [1, 2, 4]), (2, [2, 3, 1]), (2, [2, 3, 2])]"
      ]
     },
     "execution_count": 5,
     "metadata": {},
     "output_type": "execute_result"
    }
   ],
   "source": [
    "keyedRdd=rdd.keyBy(lambda a : (a[0]))\n",
    "keyedRdd.take(4)"
   ]
  },
  {
   "cell_type": "code",
   "execution_count": 7,
   "metadata": {},
   "outputs": [
    {
     "data": {
      "text/plain": [
       "[(3, 'dog'), (6, 'salmon'), (6, 'salmon'), (3, 'rat'), (8, 'elephant')]"
      ]
     },
     "execution_count": 7,
     "metadata": {},
     "output_type": "execute_result"
    }
   ],
   "source": [
    "a = sc.parallelize([\"dog\", \"salmon\", \"salmon\", \"rat\", \"elephant\"], 3)\n",
    "\n",
    "b = a.keyBy(len)\n",
    "\n",
    "b.collect()"
   ]
  },
  {
   "cell_type": "code",
   "execution_count": 8,
   "metadata": {},
   "outputs": [
    {
     "data": {
      "text/plain": [
       "[(3, 'dog'),\n",
       " (3, 'cat'),\n",
       " (3, 'gnu'),\n",
       " (6, 'salmon'),\n",
       " (6, 'rabbit'),\n",
       " (6, 'turkey'),\n",
       " (4, 'wolf'),\n",
       " (4, 'bear'),\n",
       " (3, 'bee')]"
      ]
     },
     "execution_count": 8,
     "metadata": {},
     "output_type": "execute_result"
    }
   ],
   "source": [
    "c = sc.parallelize([\"dog\",\"cat\",\"gnu\",\"salmon\",\"rabbit\",\"turkey\",\"wolf\",\"bear\",\"bee\"], 3)\n",
    "d = c.keyBy(len)\n",
    "d.collect()"
   ]
  },
  {
   "cell_type": "code",
   "execution_count": 9,
   "metadata": {},
   "outputs": [
    {
     "data": {
      "text/plain": [
       "[(6, ('salmon', 'salmon')),\n",
       " (6, ('salmon', 'rabbit')),\n",
       " (6, ('salmon', 'turkey')),\n",
       " (6, ('salmon', 'salmon')),\n",
       " (6, ('salmon', 'rabbit')),\n",
       " (6, ('salmon', 'turkey')),\n",
       " (3, ('dog', 'dog')),\n",
       " (3, ('dog', 'cat')),\n",
       " (3, ('dog', 'gnu')),\n",
       " (3, ('dog', 'bee')),\n",
       " (3, ('rat', 'dog')),\n",
       " (3, ('rat', 'cat')),\n",
       " (3, ('rat', 'gnu')),\n",
       " (3, ('rat', 'bee'))]"
      ]
     },
     "execution_count": 9,
     "metadata": {},
     "output_type": "execute_result"
    }
   ],
   "source": [
    "b.join(d).collect()"
   ]
  },
  {
   "cell_type": "code",
   "execution_count": null,
   "metadata": {
    "collapsed": true
   },
   "outputs": [],
   "source": []
  }
 ],
 "metadata": {
  "kernelspec": {
   "display_name": "Python 2",
   "language": "python",
   "name": "python2"
  },
  "language_info": {
   "codemirror_mode": {
    "name": "ipython",
    "version": 2
   },
   "file_extension": ".py",
   "mimetype": "text/x-python",
   "name": "python",
   "nbconvert_exporter": "python",
   "pygments_lexer": "ipython2",
   "version": "2.7.13"
  }
 },
 "nbformat": 4,
 "nbformat_minor": 2
}
