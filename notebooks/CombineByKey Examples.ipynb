{
 "cells": [
  {
   "cell_type": "code",
   "execution_count": 71,
   "metadata": {},
   "outputs": [
    {
     "data": {
      "text/plain": [
       "<pyspark.context.SparkContext at 0x638dda0>"
      ]
     },
     "execution_count": 71,
     "metadata": {},
     "output_type": "execute_result"
    }
   ],
   "source": [
    "sc"
   ]
  },
  {
   "cell_type": "code",
   "execution_count": 70,
   "metadata": {
    "collapsed": true
   },
   "outputs": [],
   "source": [
    "data = [(\"a\", 4), (\"b\", 3),(\"a\", 1), (\"b\", 1), (\"a\", 9)]\n",
    "rdd = sc.parallelize(data,3)"
   ]
  },
  {
   "cell_type": "code",
   "execution_count": 74,
   "metadata": {},
   "outputs": [
    {
     "data": {
      "text/plain": [
       "[('b', '31'), ('a', '419')]"
      ]
     },
     "execution_count": 74,
     "metadata": {},
     "output_type": "execute_result"
    }
   ],
   "source": [
    "rdd.collect()\n",
    "rdd.combineByKey(str,  lambda x : x+str, lambda x,y:x+y).collect()"
   ]
  },
  {
   "cell_type": "code",
   "execution_count": null,
   "metadata": {
    "collapsed": true
   },
   "outputs": [],
   "source": [
    "data = [\n",
    "        (\"A\", 2.), (\"Z\", 4.), (\"A\", 9.), \n",
    "        (\"B\", 10.), (\"B\", 20.), \n",
    "        (\"Z\", 3.), (\"Z\", 5.), (\"Z\", 8.), (\"A\", 12.) \n",
    "       ]"
   ]
  },
  {
   "cell_type": "code",
   "execution_count": 41,
   "metadata": {
    "collapsed": true
   },
   "outputs": [],
   "source": [
    "rdd = sc.parallelize(data,3)"
   ]
  },
  {
   "cell_type": "code",
   "execution_count": 42,
   "metadata": {},
   "outputs": [
    {
     "data": {
      "text/plain": [
       "['[A,2.0][Z,4.0][A,9.0]', '[B,10.0][B,20.0][Z,3.0]', '[Z,5.0][Z,8.0][A,12.0]']"
      ]
     },
     "execution_count": 42,
     "metadata": {},
     "output_type": "execute_result"
    }
   ],
   "source": [
    "def printPartition(iterator):\n",
    "    nstr = ''\n",
    "    for x in iterator:\n",
    "        nstr = nstr +'['+ str(x[0]) + ',' + str(x[1])+']'\n",
    "    yield nstr\n",
    "        \n",
    "\n",
    "rdd.mapPartitions(printPartition).collect()"
   ]
  },
  {
   "cell_type": "code",
   "execution_count": 48,
   "metadata": {},
   "outputs": [],
   "source": [
    "combineRdd = rdd.combineByKey(lambda value : (value,1), \n",
    "                lambda accu,x : (x + accu[0] , 1 + accu[1]),\n",
    "                 lambda x,y : (x[0] + y[0] , x[1] + y[1]))"
   ]
  },
  {
   "cell_type": "code",
   "execution_count": 49,
   "metadata": {},
   "outputs": [
    {
     "data": {
      "text/plain": [
       "[('A', (23.0, 3)), ('Z', (20.0, 4)), ('B', (30.0, 2))]"
      ]
     },
     "execution_count": 49,
     "metadata": {},
     "output_type": "execute_result"
    }
   ],
   "source": [
    "combineRdd.collect()"
   ]
  },
  {
   "cell_type": "code",
   "execution_count": 50,
   "metadata": {
    "collapsed": true
   },
   "outputs": [],
   "source": [
    "#Compute mean\n",
    "averageByKey = combineRdd.map(lambda (key, (totalSum, count)): (key, totalSum / count))"
   ]
  },
  {
   "cell_type": "code",
   "execution_count": 51,
   "metadata": {},
   "outputs": [
    {
     "data": {
      "text/plain": [
       "{'A': 7.666666666666667, 'B': 15.0, 'Z': 5.0}"
      ]
     },
     "execution_count": 51,
     "metadata": {},
     "output_type": "execute_result"
    }
   ],
   "source": [
    "averageByKey.collectAsMap()"
   ]
  },
  {
   "cell_type": "code",
   "execution_count": 52,
   "metadata": {},
   "outputs": [
    {
     "data": {
      "text/plain": [
       "[('A', 7.666666666666667), ('Z', 5.0), ('B', 15.0)]"
      ]
     },
     "execution_count": 52,
     "metadata": {},
     "output_type": "execute_result"
    }
   ],
   "source": [
    "averageByKey.collect()"
   ]
  },
  {
   "cell_type": "code",
   "execution_count": 53,
   "metadata": {
    "collapsed": true
   },
   "outputs": [],
   "source": [
    "#Standard Deviation and MEAN both\n",
    "sumCount = rdd.combineByKey(lambda value: (value, value*value, 1),\n",
    "                             lambda x, value: (x[0] + value, x[1] + value*value, x[2] + 1),\n",
    "                             lambda x, y: (x[0] + y[0], x[1] + y[1], x[2] + y[2])\n",
    "                            )"
   ]
  },
  {
   "cell_type": "code",
   "execution_count": 61,
   "metadata": {},
   "outputs": [
    {
     "data": {
      "text/plain": [
       "defaultdict(int, {'A': 1, 'B': 1, 'Z': 1})"
      ]
     },
     "execution_count": 61,
     "metadata": {},
     "output_type": "execute_result"
    }
   ],
   "source": [
    "sumCount.collect()\n",
    "sumCount.countByKey()"
   ]
  },
  {
   "cell_type": "code",
   "execution_count": 59,
   "metadata": {},
   "outputs": [
    {
     "data": {
      "text/plain": [
       "[(7.666666666666667, 4.189935029992178),\n",
       " (5.0, 1.8708286933869707),\n",
       " (15.0, 5.0)]"
      ]
     },
     "execution_count": 59,
     "metadata": {},
     "output_type": "execute_result"
    }
   ],
   "source": [
    "import math\n",
    "def  stdDev( sumX, sumSquared, n ):     \n",
    "    mean = sumX / n\n",
    "    stdDeviation = math.sqrt ((sumSquared - n*mean*mean) /n)\n",
    "    return (mean, stdDeviation)\n",
    "meanAndStdDev = sumCount.mapValues(lambda x : stdDev(x[0], x[1], x[2]))\n",
    "meanAndStdDev.collect()"
   ]
  },
  {
   "cell_type": "code",
   "execution_count": null,
   "metadata": {
    "collapsed": true
   },
   "outputs": [],
   "source": []
  },
  {
   "cell_type": "code",
   "execution_count": null,
   "metadata": {
    "collapsed": true
   },
   "outputs": [],
   "source": []
  }
 ],
 "metadata": {
  "kernelspec": {
   "display_name": "Python 2",
   "language": "python",
   "name": "python2"
  },
  "language_info": {
   "codemirror_mode": {
    "name": "ipython",
    "version": 2
   },
   "file_extension": ".py",
   "mimetype": "text/x-python",
   "name": "python",
   "nbconvert_exporter": "python",
   "pygments_lexer": "ipython2",
   "version": "2.7.13"
  }
 },
 "nbformat": 4,
 "nbformat_minor": 2
}
